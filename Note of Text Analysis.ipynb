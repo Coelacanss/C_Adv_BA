{
 "cells": [
  {
   "cell_type": "code",
   "execution_count": 1,
   "metadata": {
    "collapsed": true
   },
   "outputs": [],
   "source": [
    "import pandas as pd\n",
    "from pandas import Series, DataFrame\n",
    "import numpy as np\n",
    "import matplotlib.pyplot as plt\n",
    "% matplotlib inline"
   ]
  },
  {
   "cell_type": "code",
   "execution_count": 14,
   "metadata": {
    "collapsed": false
   },
   "outputs": [
    {
     "name": "stdout",
     "output_type": "stream",
     "text": [
      "Elapsed time:  4.08 seconds\n"
     ]
    }
   ],
   "source": [
    "# read in movie reviews\n",
    "# stored in directory Movie Reviews\n",
    "# 1000 positive reviews in subdirectory pos\n",
    "# 1000 negative reviews in subdirectory neg\n",
    "import time # to see how long it takes\n",
    "import os  # for file handling in os appropriate way\n",
    "start_time = time.time()\n",
    "labels = {'pos': 1, 'neg': 0}  #dictionary to have numeric sentiment\n",
    "mr_raw = DataFrame()  # initialize the empty data frame\n",
    "for l in ('pos', 'neg'):  # for each class\n",
    "    path ='/users/RickyZhang/Desktop/Lecture3/Reviews/%s' % l  #clever use of formatting\n",
    "    for file in os.listdir(path):   # iterate for each file in directory\n",
    "        with open(os.path.join( path, file), 'r') as infile:  # open each file\n",
    "            txt = infile.read()  # read in the text\n",
    "            mr_raw = mr_raw.append([[txt, labels[l]]], ignore_index = True)  #append a row, no meaning to index\n",
    "mr_raw.columns = ['review', 'sentiment']  # rename columns\n",
    "print \"Elapsed time: \", '%.2f' % (time.time() - start_time), \"seconds\""
   ]
  },
  {
   "cell_type": "code",
   "execution_count": 15,
   "metadata": {
    "collapsed": false
   },
   "outputs": [
    {
     "data": {
      "text/plain": [
       "(2000, 2)"
      ]
     },
     "execution_count": 15,
     "metadata": {},
     "output_type": "execute_result"
    }
   ],
   "source": [
    "mr_raw.shape"
   ]
  },
  {
   "cell_type": "code",
   "execution_count": 16,
   "metadata": {
    "collapsed": true
   },
   "outputs": [],
   "source": [
    "X = mr_raw.ix[:,\"review\"].values   # .values returns arrays\n",
    "y = mr_raw.ix[:,\"sentiment\"].values"
   ]
  },
  {
   "cell_type": "code",
   "execution_count": 17,
   "metadata": {
    "collapsed": true
   },
   "outputs": [],
   "source": [
    "from nltk.stem import SnowballStemmer\n",
    "from sklearn.grid_search import GridSearchCV\n",
    "from sklearn.pipeline import Pipeline\n",
    "from sklearn.naive_bayes import MultinomialNB\n",
    "from sklearn.feature_extraction.text import TfidfVectorizer\n",
    "\n",
    "def preprocessor(data):\n",
    "        return \" \".join([SnowballStemmer(\"english\").stem(word) for word in data.split()])\n",
    "\n",
    "param_grid = [{'vect__preprocessor': [None, preprocessor],\n",
    "               'vect__ngram_range': [(1,1),(1,2)],\n",
    "               'vect__stop_words': ['english', None],\n",
    "               'vect__use_idf': [False, True]  # False provides normalized counts\n",
    "               }]\n",
    "\n",
    "lr_tfidf = Pipeline([('vect', TfidfVectorizer(lowercase=True)),\n",
    "                     ('clf', MultinomialNB())])\n",
    "\n",
    "gs_lr_tfidf = GridSearchCV(lr_tfidf, param_grid, \n",
    "                           scoring='accuracy',\n",
    "                           cv=5, verbose=1,\n",
    "                           n_jobs=-1)"
   ]
  },
  {
   "cell_type": "code",
   "execution_count": null,
   "metadata": {
    "collapsed": false
   },
   "outputs": [
    {
     "name": "stdout",
     "output_type": "stream",
     "text": [
      "Fitting 5 folds for each of 16 candidates, totalling 80 fits\n"
     ]
    }
   ],
   "source": [
    "gs_lr_tfidf.fit(X, y)"
   ]
  },
  {
   "cell_type": "code",
   "execution_count": null,
   "metadata": {
    "collapsed": true
   },
   "outputs": [],
   "source": []
  }
 ],
 "metadata": {
  "kernelspec": {
   "display_name": "Python 2",
   "language": "python",
   "name": "python2"
  },
  "language_info": {
   "codemirror_mode": {
    "name": "ipython",
    "version": 2
   },
   "file_extension": ".py",
   "mimetype": "text/x-python",
   "name": "python",
   "nbconvert_exporter": "python",
   "pygments_lexer": "ipython2",
   "version": "2.7.11"
  }
 },
 "nbformat": 4,
 "nbformat_minor": 0
}
