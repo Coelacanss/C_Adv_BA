{
 "cells": [
  {
   "cell_type": "code",
   "execution_count": 1,
   "metadata": {
    "collapsed": true
   },
   "outputs": [],
   "source": [
    "import pandas as pd\n",
    "from pandas import Series, DataFrame\n",
    "import numpy as np\n",
    "import matplotlib.pyplot as plt\n",
    "% matplotlib inline"
   ]
  },
  {
   "cell_type": "code",
   "execution_count": 2,
   "metadata": {
    "collapsed": false
   },
   "outputs": [
    {
     "name": "stdout",
     "output_type": "stream",
     "text": [
      "Elapsed time:  3.59 seconds\n"
     ]
    }
   ],
   "source": [
    "# read in movie reviews\n",
    "# stored in directory Movie Reviews\n",
    "# 1000 positive reviews in subdirectory pos\n",
    "# 1000 negative reviews in subdirectory neg\n",
    "import time # to see how long it takes\n",
    "import os  # for file handling in os appropriate way\n",
    "start_time = time.time()\n",
    "labels = {'pos': 1, 'neg': 0}  #dictionary to have numeric sentiment\n",
    "mr_raw = DataFrame()  # initialize the empty data frame\n",
    "for l in ('pos', 'neg'):  # for each class\n",
    "    path ='/Users/dewan/Dropbox/Documents/CLASS/CIS417/Data/Movie Reviews/Reviews/%s' % l  #clever use of formatting\n",
    "    for file in os.listdir(path):   # iterate for each file in directory\n",
    "        with open(os.path.join( path, file), 'r') as infile:  # open each file\n",
    "            txt = infile.read()  # read in the text\n",
    "            mr_raw = mr_raw.append([[txt, labels[l]]], ignore_index = True)  #append a row, no meaning to index\n",
    "mr_raw.columns = ['review', 'sentiment']  # rename columns\n",
    "print \"Elapsed time: \", '%.2f' % (time.time() - start_time), \"seconds\""
   ]
  },
  {
   "cell_type": "code",
   "execution_count": 3,
   "metadata": {
    "collapsed": false
   },
   "outputs": [
    {
     "data": {
      "text/plain": [
       "(2000, 2)"
      ]
     },
     "execution_count": 3,
     "metadata": {},
     "output_type": "execute_result"
    }
   ],
   "source": [
    "mr_raw.shape"
   ]
  },
  {
   "cell_type": "code",
   "execution_count": 4,
   "metadata": {
    "collapsed": false
   },
   "outputs": [
    {
     "data": {
      "text/html": [
       "<div>\n",
       "<table border=\"1\" class=\"dataframe\">\n",
       "  <thead>\n",
       "    <tr style=\"text-align: right;\">\n",
       "      <th></th>\n",
       "      <th>review</th>\n",
       "      <th>sentiment</th>\n",
       "    </tr>\n",
       "  </thead>\n",
       "  <tbody>\n",
       "    <tr>\n",
       "      <th>0</th>\n",
       "      <td>films adapted from comic books have had plenty...</td>\n",
       "      <td>1</td>\n",
       "    </tr>\n",
       "    <tr>\n",
       "      <th>1</th>\n",
       "      <td>every now and then a movie comes along from a ...</td>\n",
       "      <td>1</td>\n",
       "    </tr>\n",
       "    <tr>\n",
       "      <th>2</th>\n",
       "      <td>you've got mail works alot better than it dese...</td>\n",
       "      <td>1</td>\n",
       "    </tr>\n",
       "    <tr>\n",
       "      <th>3</th>\n",
       "      <td>\" jaws \" is a rare film that grabs your atten...</td>\n",
       "      <td>1</td>\n",
       "    </tr>\n",
       "    <tr>\n",
       "      <th>4</th>\n",
       "      <td>moviemaking is a lot like being the general ma...</td>\n",
       "      <td>1</td>\n",
       "    </tr>\n",
       "  </tbody>\n",
       "</table>\n",
       "</div>"
      ],
      "text/plain": [
       "                                              review  sentiment\n",
       "0  films adapted from comic books have had plenty...          1\n",
       "1  every now and then a movie comes along from a ...          1\n",
       "2  you've got mail works alot better than it dese...          1\n",
       "3   \" jaws \" is a rare film that grabs your atten...          1\n",
       "4  moviemaking is a lot like being the general ma...          1"
      ]
     },
     "execution_count": 4,
     "metadata": {},
     "output_type": "execute_result"
    }
   ],
   "source": [
    "mr_raw.head()"
   ]
  },
  {
   "cell_type": "code",
   "execution_count": 5,
   "metadata": {
    "collapsed": false
   },
   "outputs": [
    {
     "data": {
      "text/html": [
       "<div>\n",
       "<table border=\"1\" class=\"dataframe\">\n",
       "  <thead>\n",
       "    <tr style=\"text-align: right;\">\n",
       "      <th></th>\n",
       "      <th>review</th>\n",
       "      <th>sentiment</th>\n",
       "    </tr>\n",
       "  </thead>\n",
       "  <tbody>\n",
       "    <tr>\n",
       "      <th>1995</th>\n",
       "      <td>if anything , \" stigmata \" should be taken as ...</td>\n",
       "      <td>0</td>\n",
       "    </tr>\n",
       "    <tr>\n",
       "      <th>1996</th>\n",
       "      <td>john boorman's \" zardoz \" is a goofy cinematic...</td>\n",
       "      <td>0</td>\n",
       "    </tr>\n",
       "    <tr>\n",
       "      <th>1997</th>\n",
       "      <td>the kids in the hall are an acquired taste . \\...</td>\n",
       "      <td>0</td>\n",
       "    </tr>\n",
       "    <tr>\n",
       "      <th>1998</th>\n",
       "      <td>there was a time when john carpenter was a gre...</td>\n",
       "      <td>0</td>\n",
       "    </tr>\n",
       "    <tr>\n",
       "      <th>1999</th>\n",
       "      <td>two party guys bob their heads to haddaway's d...</td>\n",
       "      <td>0</td>\n",
       "    </tr>\n",
       "  </tbody>\n",
       "</table>\n",
       "</div>"
      ],
      "text/plain": [
       "                                                 review  sentiment\n",
       "1995  if anything , \" stigmata \" should be taken as ...          0\n",
       "1996  john boorman's \" zardoz \" is a goofy cinematic...          0\n",
       "1997  the kids in the hall are an acquired taste . \\...          0\n",
       "1998  there was a time when john carpenter was a gre...          0\n",
       "1999  two party guys bob their heads to haddaway's d...          0"
      ]
     },
     "execution_count": 5,
     "metadata": {},
     "output_type": "execute_result"
    }
   ],
   "source": [
    "mr_raw.tail()"
   ]
  },
  {
   "cell_type": "code",
   "execution_count": null,
   "metadata": {
    "collapsed": false
   },
   "outputs": [],
   "source": [
    "# pickle mr_raw\n",
    "import pickle\n",
    "pickle.dump(mr_raw, open(\"03 mr raw.pkl\",\"wb\"))\n",
    "# read it in later\n",
    "# mr_raw = pickle.load(open(\"03 mr raw.pkl\",\"rb\"))"
   ]
  },
  {
   "cell_type": "code",
   "execution_count": 6,
   "metadata": {
    "collapsed": true
   },
   "outputs": [],
   "source": [
    "X = mr_raw.ix[:,\"review\"].values   # .values returns arrays\n",
    "y = mr_raw.ix[:,\"sentiment\"].values"
   ]
  },
  {
   "cell_type": "code",
   "execution_count": 7,
   "metadata": {
    "collapsed": false
   },
   "outputs": [],
   "source": [
    "from nltk.stem import SnowballStemmer\n",
    "from sklearn.grid_search import GridSearchCV\n",
    "from sklearn.pipeline import Pipeline\n",
    "from sklearn.naive_bayes import MultinomialNB\n",
    "from sklearn.feature_extraction.text import TfidfVectorizer\n",
    "\n",
    "def preprocessor(data):\n",
    "        return \" \".join([SnowballStemmer(\"english\").stem(word) for word in data.split()])\n",
    "\n",
    "param_grid = [{'vect__preprocessor': [None, preprocessor],\n",
    "               'vect__ngram_range': [(1,1),(1,2)],\n",
    "               'vect__stop_words': ['english', None],\n",
    "               'vect__use_idf': [False, True]  # False provides normalized counts\n",
    "               }]\n",
    "\n",
    "lr_tfidf = Pipeline([('vect', TfidfVectorizer(lowercase=True)),\n",
    "                     ('clf', MultinomialNB())])\n",
    "\n",
    "gs_lr_tfidf = GridSearchCV(lr_tfidf, param_grid, \n",
    "                           scoring='accuracy',\n",
    "                           cv=5, verbose=1,\n",
    "                           n_jobs=-1)"
   ]
  },
  {
   "cell_type": "code",
   "execution_count": 8,
   "metadata": {
    "collapsed": false
   },
   "outputs": [
    {
     "name": "stdout",
     "output_type": "stream",
     "text": [
      "Fitting 5 folds for each of 16 candidates, totalling 80 fits\n"
     ]
    },
    {
     "name": "stderr",
     "output_type": "stream",
     "text": [
      "[Parallel(n_jobs=-1)]: Done   1 jobs       | elapsed:    2.0s\n",
      "[Parallel(n_jobs=-1)]: Done  50 jobs       | elapsed:  2.4min\n",
      "[Parallel(n_jobs=-1)]: Done  66 out of  80 | elapsed:  4.0min remaining:   50.4s\n",
      "[Parallel(n_jobs=-1)]: Done  80 out of  80 | elapsed:  5.4min finished\n"
     ]
    },
    {
     "data": {
      "text/plain": [
       "GridSearchCV(cv=5, error_score='raise',\n",
       "       estimator=Pipeline(steps=[('vect', TfidfVectorizer(analyzer=u'word', binary=False, decode_error=u'strict',\n",
       "        dtype=<type 'numpy.int64'>, encoding=u'utf-8', input=u'content',\n",
       "        lowercase=True, max_df=1.0, max_features=None, min_df=1,\n",
       "        ngram_range=(1, 1), norm=u'l2', preprocessor=None, smooth_idf=True...rue,\n",
       "        vocabulary=None)), ('clf', MultinomialNB(alpha=1.0, class_prior=None, fit_prior=True))]),\n",
       "       fit_params={}, iid=True, loss_func=None, n_jobs=-1,\n",
       "       param_grid=[{'vect__ngram_range': [(1, 1), (1, 2)], 'vect__use_idf': [False, True], 'vect__preprocessor': [None, <function preprocessor at 0x10d4e4500>], 'vect__stop_words': ['english', None]}],\n",
       "       pre_dispatch='2*n_jobs', refit=True, score_func=None,\n",
       "       scoring='accuracy', verbose=1)"
      ]
     },
     "execution_count": 8,
     "metadata": {},
     "output_type": "execute_result"
    }
   ],
   "source": [
    "gs_lr_tfidf.fit(X, y)"
   ]
  },
  {
   "cell_type": "code",
   "execution_count": 9,
   "metadata": {
    "collapsed": false
   },
   "outputs": [
    {
     "name": "stdout",
     "output_type": "stream",
     "text": [
      "Best parameter set: {'vect__ngram_range': (1, 2), 'vect__use_idf': True, 'vect__preprocessor': None, 'vect__stop_words': None} \n",
      "CV Accuracy: 0.836\n"
     ]
    }
   ],
   "source": [
    "print('Best parameter set: %s ' % gs_lr_tfidf.best_params_)\n",
    "print('CV Accuracy: %.3f' % gs_lr_tfidf.best_score_)\n",
    "# with R we had resub accuracy of 78% and test accuracy of 73%"
   ]
  },
  {
   "cell_type": "code",
   "execution_count": null,
   "metadata": {
    "collapsed": true
   },
   "outputs": [],
   "source": [
    "# if you had a separate test set, you can check the quality of model\n",
    "# clf = gs_lr_tfidf.best_estimator_.score(X_test, y_test)\n",
    "# print('Test Accuracy: %.3f' % clf.score(X_test, y_test))"
   ]
  }
 ],
 "metadata": {
  "kernelspec": {
   "display_name": "Python 2",
   "language": "python",
   "name": "python2"
  },
  "language_info": {
   "codemirror_mode": {
    "name": "ipython",
    "version": 2
   },
   "file_extension": ".py",
   "mimetype": "text/x-python",
   "name": "python",
   "nbconvert_exporter": "python",
   "pygments_lexer": "ipython2",
   "version": "2.7.11"
  }
 },
 "nbformat": 4,
 "nbformat_minor": 0
}
